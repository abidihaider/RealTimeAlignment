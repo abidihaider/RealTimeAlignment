{
 "cells": [
  {
   "cell_type": "code",
   "execution_count": 1,
   "id": "671d806a-b7b0-42db-a090-87833a5647f0",
   "metadata": {},
   "outputs": [],
   "source": [
    "from tqdm.notebook import tqdm\n",
    "import torch\n",
    "from torch import nn\n",
    "from torch.utils.data import DataLoader"
   ]
  },
  {
   "cell_type": "code",
   "execution_count": 2,
   "id": "8339dbee-2eb5-4056-ab98-38c73759c31d",
   "metadata": {},
   "outputs": [],
   "source": [
    "from rtal.datasets.dataset import ROMDataset"
   ]
  },
  {
   "cell_type": "code",
   "execution_count": 3,
   "id": "8fbfeb62-6833-485f-a497-cc0c9c73cd3e",
   "metadata": {},
   "outputs": [
    {
     "data": {
      "text/plain": [
       "2500"
      ]
     },
     "execution_count": 3,
     "metadata": {},
     "output_type": "execute_result"
    }
   ],
   "source": [
    "data_root = '/data/yhuang2/rtal/rom_det-3_part-200_rounded/'\n",
    "dataset = ROMDataset(data_root, mode='raw', split='train_10k', num_particles=50)\n",
    "dataloader = DataLoader(dataset, batch_size=4, shuffle=False)\n",
    "len(dataloader)"
   ]
  },
  {
   "cell_type": "code",
   "execution_count": 4,
   "id": "3381b71d-c3b9-4336-86d6-293dddcb8e85",
   "metadata": {},
   "outputs": [],
   "source": [
    "def line_checker(recon):\n",
    "    \"\"\"\n",
    "    reconstructed points of shape (batch_size, num_tracks, num_detectors, 3)\n",
    "    num_detectors = 3\n",
    "    \"\"\"\n",
    "    p0, p1, p2 = torch.permute(recon, (2, 0, 1, 3))\n",
    "    # li: (batch_size, num_tracks) \n",
    "    l1 = torch.linalg.norm(p0 - p1, dim=-1)\n",
    "    l2 = torch.linalg.norm(p2 - p1, dim=-1)\n",
    "    l3 = torch.linalg.norm(p2 - p0, dim=-1)\n",
    "    # residual: (torch_size,)\n",
    "    residual = (l1 + l2 - l3).mean()\n",
    "    return residual"
   ]
  },
  {
   "cell_type": "code",
   "execution_count": 5,
   "id": "2d50754d-f2aa-4b5c-996e-49f0795077b3",
   "metadata": {},
   "outputs": [
    {
     "name": "stdout",
     "output_type": "stream",
     "text": [
      "torch.Size([4, 10, 3, 3])\n",
      "torch.Size([3, 10, 4, 3])\n"
     ]
    }
   ],
   "source": [
    "batch_size = 4\n",
    "num_tracks = 10\n",
    "\n",
    "# later, basis and center will be Parameters (optimizable by gradient)\n",
    "# it should be initialized \n",
    "basis = torch.randint(0, 2, size=(batch_size, 3, 2, 3), dtype=torch.float)\n",
    "center = torch.randint(0, 2, size=(batch_size, 3, 3), dtype=torch.float)\n",
    "\n",
    "# input\n",
    "readout = torch.randint(0, 2, size=(batch_size, num_tracks, 3, 2), dtype=torch.float)\n",
    "\n",
    "# b: batch\n",
    "# t: tracks\n",
    "# c: channel (the detector plane array)\n",
    "# r: readout in 2D\n",
    "# l: local basis in 3D \n",
    "recon = torch.einsum('btcr,btcrl->btcl', readout, basis.unsqueeze(1)) + center.unsqueeze(1)\n",
    "print(recon.shape)\n",
    "print(torch.transpose(recon, 0, 2).shape)"
   ]
  },
  {
   "cell_type": "code",
   "execution_count": 6,
   "id": "78abaf02-c58e-46a9-b5c1-ed110e65e85b",
   "metadata": {},
   "outputs": [
    {
     "data": {
      "text/plain": [
       "tensor([[[0.0000, 1.4142],\n",
       "         [0.0000, 1.4142],\n",
       "         [1.4142, 1.0000]],\n",
       "\n",
       "        [[1.0000, 1.0000],\n",
       "         [0.0000, 1.0000],\n",
       "         [1.0000, 1.4142]],\n",
       "\n",
       "        [[1.4142, 1.4142],\n",
       "         [1.4142, 0.0000],\n",
       "         [1.4142, 1.0000]],\n",
       "\n",
       "        [[1.4142, 1.0000],\n",
       "         [1.4142, 0.0000],\n",
       "         [1.4142, 1.0000]]])"
      ]
     },
     "execution_count": 6,
     "metadata": {},
     "output_type": "execute_result"
    }
   ],
   "source": [
    "torch.linalg.norm(basis, dim=-1).abs()"
   ]
  },
  {
   "cell_type": "code",
   "execution_count": 10,
   "id": "fa286f19-02ab-4f26-a9f8-14b7494ec00b",
   "metadata": {},
   "outputs": [
    {
     "name": "stdout",
     "output_type": "stream",
     "text": [
      "epsilon = 0.06918\n",
      "mode=start: residual= 0.013967\n",
      "mode=curr: residual= 0.203058\n",
      "start_det(curr_readout) = 0.55341\n",
      "curr_det(start_readout) = 0.70664\n",
      "\n"
     ]
    }
   ],
   "source": [
    "dataloader = DataLoader(dataset, batch_size=4, shuffle=False)\n",
    "\n",
    "for batch_id, batch in enumerate(dataloader):\n",
    "    if batch_id == 1:\n",
    "        break\n",
    "\n",
    "    center_start, basis_start = get_center_basis(batch['detector_start'])\n",
    "    center_curr, basis_curr = get_center_basis(batch['detector_curr'])\n",
    "    misalignment_epsilon = torch.abs(center_start - center_curr).mean() + torch.abs(basis_start - basis_curr).mean()\n",
    "    print(f'epsilon = {misalignment_epsilon:.5f}')\n",
    "    \n",
    "    for mode in ('start', 'curr'):\n",
    "        readout = torch.transpose(batch[f'readout_{mode}'], 1, 2)\n",
    "        \n",
    "        center, basis = get_center_basis(batch[f'detector_{mode}'])\n",
    "        recon = torch.einsum('btcr,btcrl->btcl', readout, basis.unsqueeze(1)) + center.unsqueeze(1)\n",
    "        residual = line_checker(recon)\n",
    "        print(f'mode={mode}: residual= {residual:.6f}')\n",
    "    \n",
    "    readout = torch.transpose(batch['readout_curr'], 1, 2)\n",
    "    center, basis = get_center_basis(batch['detector_start'])\n",
    "    recon = torch.einsum('btcr,btcrl->btcl', readout, basis.unsqueeze(1)) + center.unsqueeze(1)\n",
    "    residual = line_checker(recon)\n",
    "    print(f'start_det(curr_readout) = {residual:.5f}')\n",
    "    \n",
    "    readout = torch.transpose(batch['readout_start'], 1, 2)\n",
    "    center, basis = get_center_basis(batch['detector_curr'])\n",
    "    recon = torch.einsum('btcr,btcrl->btcl', readout, basis.unsqueeze(1)) + center.unsqueeze(1)\n",
    "    residual = line_checker(recon)\n",
    "    print(f'curr_det(start_readout) = {residual:.5f}\\n')"
   ]
  },
  {
   "cell_type": "code",
   "execution_count": 11,
   "id": "137e86c3-515a-4963-a2d9-47a48d46971d",
   "metadata": {},
   "outputs": [],
   "source": [
    "def get_center_basis(detector_params):\n",
    "    center = detector_params[..., :3]\n",
    "    lx = detector_params[..., 3:6]\n",
    "    ly = detector_params[..., 6:]\n",
    "    basis = torch.stack([lx, ly], dim=-2)\n",
    "    return center, basis"
   ]
  },
  {
   "cell_type": "code",
   "execution_count": 12,
   "id": "7fd3596a-903c-48cd-8db7-7835bb915942",
   "metadata": {},
   "outputs": [],
   "source": [
    "def basis_checker(basis):\n",
    "    basis_norm = torch.linalg.norm(basis, dim=-1)\n",
    "    norm_loss = (basis_norm - torch.ones_like(basis_norm)).abs().mean()\n",
    "    \n",
    "    lx, ly = torch.permute(basis_target, (2, 0, 1, 3))\n",
    "    perp_loss = (lx * ly).mean()\n",
    "    return norm_loss + perp_loss"
   ]
  },
  {
   "cell_type": "code",
   "execution_count": 47,
   "id": "4b452eec-cd0a-4331-8f49-46f50ca400b7",
   "metadata": {},
   "outputs": [
    {
     "name": "stdout",
     "output_type": "stream",
     "text": [
      "100/10000: residual=0.055771, diff_to_curr=0.089018, diff_to_start=0.064413\n",
      "200/10000: residual=0.028803, diff_to_curr=0.101889, diff_to_start=0.094648\n",
      "300/10000: residual=0.022486, diff_to_curr=0.122646, diff_to_start=0.124241\n",
      "400/10000: residual=0.018231, diff_to_curr=0.148703, diff_to_start=0.150599\n",
      "500/10000: residual=0.015826, diff_to_curr=0.171849, diff_to_start=0.173424\n",
      "600/10000: residual=0.014107, diff_to_curr=0.191462, diff_to_start=0.193043\n",
      "700/10000: residual=0.013169, diff_to_curr=0.208827, diff_to_start=0.210302\n",
      "800/10000: residual=0.012900, diff_to_curr=0.223008, diff_to_start=0.224166\n",
      "900/10000: residual=0.012432, diff_to_curr=0.235064, diff_to_start=0.236203\n",
      "1000/10000: residual=0.012210, diff_to_curr=0.244809, diff_to_start=0.245948\n",
      "1100/10000: residual=0.011920, diff_to_curr=0.254852, diff_to_start=0.255890\n",
      "1200/10000: residual=0.012016, diff_to_curr=0.262904, diff_to_start=0.264014\n",
      "1300/10000: residual=0.011752, diff_to_curr=0.273297, diff_to_start=0.274287\n",
      "1400/10000: residual=0.011884, diff_to_curr=0.282081, diff_to_start=0.283112\n",
      "1500/10000: residual=0.012056, diff_to_curr=0.290373, diff_to_start=0.291432\n",
      "1600/10000: residual=0.011795, diff_to_curr=0.297811, diff_to_start=0.298678\n",
      "1700/10000: residual=0.011828, diff_to_curr=0.305894, diff_to_start=0.306704\n",
      "1800/10000: residual=0.011928, diff_to_curr=0.314058, diff_to_start=0.315028\n",
      "1900/10000: residual=0.011701, diff_to_curr=0.323037, diff_to_start=0.323938\n",
      "2000/10000: residual=0.011770, diff_to_curr=0.329207, diff_to_start=0.330010\n",
      "2100/10000: residual=0.011745, diff_to_curr=0.335719, diff_to_start=0.336570\n",
      "2200/10000: residual=0.011787, diff_to_curr=0.346681, diff_to_start=0.347420\n",
      "2300/10000: residual=0.011600, diff_to_curr=0.353608, diff_to_start=0.354356\n",
      "2400/10000: residual=0.011646, diff_to_curr=0.361961, diff_to_start=0.362604\n",
      "2500/10000: residual=0.011707, diff_to_curr=0.369156, diff_to_start=0.369750\n",
      "2600/10000: residual=0.011514, diff_to_curr=0.378370, diff_to_start=0.378927\n",
      "2700/10000: residual=0.011494, diff_to_curr=0.386447, diff_to_start=0.387058\n",
      "2800/10000: residual=0.011479, diff_to_curr=0.392928, diff_to_start=0.393354\n",
      "2900/10000: residual=0.011360, diff_to_curr=0.401386, diff_to_start=0.401791\n",
      "3000/10000: residual=0.011471, diff_to_curr=0.410190, diff_to_start=0.410537\n",
      "3100/10000: residual=0.011485, diff_to_curr=0.418252, diff_to_start=0.418721\n",
      "3200/10000: residual=0.011370, diff_to_curr=0.425412, diff_to_start=0.425707\n",
      "3300/10000: residual=0.011284, diff_to_curr=0.433740, diff_to_start=0.434020\n",
      "3400/10000: residual=0.011233, diff_to_curr=0.440042, diff_to_start=0.440252\n",
      "3500/10000: residual=0.011240, diff_to_curr=0.449042, diff_to_start=0.449219\n",
      "3600/10000: residual=0.011316, diff_to_curr=0.456679, diff_to_start=0.456970\n",
      "3700/10000: residual=0.011286, diff_to_curr=0.464139, diff_to_start=0.464347\n",
      "3800/10000: residual=0.011234, diff_to_curr=0.470040, diff_to_start=0.470131\n",
      "3900/10000: residual=0.011227, diff_to_curr=0.479236, diff_to_start=0.479261\n",
      "4000/10000: residual=0.011258, diff_to_curr=0.486766, diff_to_start=0.486962\n",
      "4100/10000: residual=0.011134, diff_to_curr=0.493951, diff_to_start=0.493897\n",
      "4200/10000: residual=0.011085, diff_to_curr=0.502009, diff_to_start=0.501920\n",
      "4300/10000: residual=0.011608, diff_to_curr=0.511516, diff_to_start=0.511218\n",
      "4400/10000: residual=0.011250, diff_to_curr=0.517288, diff_to_start=0.517112\n",
      "4500/10000: residual=0.011143, diff_to_curr=0.524568, diff_to_start=0.524686\n",
      "4600/10000: residual=0.011110, diff_to_curr=0.533286, diff_to_start=0.533036\n",
      "4700/10000: residual=0.011182, diff_to_curr=0.540802, diff_to_start=0.540683\n",
      "4800/10000: residual=0.011130, diff_to_curr=0.547511, diff_to_start=0.547428\n",
      "4900/10000: residual=0.011224, diff_to_curr=0.555443, diff_to_start=0.555126\n",
      "5000/10000: residual=0.011180, diff_to_curr=0.561263, diff_to_start=0.561063\n",
      "5100/10000: residual=0.011092, diff_to_curr=0.571743, diff_to_start=0.571365\n",
      "5200/10000: residual=0.011063, diff_to_curr=0.578364, diff_to_start=0.578113\n",
      "5300/10000: residual=0.011147, diff_to_curr=0.583542, diff_to_start=0.583250\n",
      "5400/10000: residual=0.011187, diff_to_curr=0.590802, diff_to_start=0.590478\n",
      "5500/10000: residual=0.011042, diff_to_curr=0.595926, diff_to_start=0.595434\n",
      "5600/10000: residual=0.011042, diff_to_curr=0.604853, diff_to_start=0.604416\n",
      "5700/10000: residual=0.011106, diff_to_curr=0.611132, diff_to_start=0.610633\n",
      "5800/10000: residual=0.011038, diff_to_curr=0.619211, diff_to_start=0.618757\n",
      "5900/10000: residual=0.010992, diff_to_curr=0.626075, diff_to_start=0.625542\n",
      "6000/10000: residual=0.011015, diff_to_curr=0.632820, diff_to_start=0.632255\n",
      "6100/10000: residual=0.011053, diff_to_curr=0.640551, diff_to_start=0.639863\n",
      "6200/10000: residual=0.011025, diff_to_curr=0.647064, diff_to_start=0.646337\n",
      "6300/10000: residual=0.011118, diff_to_curr=0.654271, diff_to_start=0.653670\n",
      "6400/10000: residual=0.011035, diff_to_curr=0.661693, diff_to_start=0.661023\n",
      "6500/10000: residual=0.011056, diff_to_curr=0.668433, diff_to_start=0.667917\n",
      "6600/10000: residual=0.010889, diff_to_curr=0.674850, diff_to_start=0.674249\n",
      "6700/10000: residual=0.010929, diff_to_curr=0.681791, diff_to_start=0.681010\n",
      "6800/10000: residual=0.010883, diff_to_curr=0.689014, diff_to_start=0.688375\n",
      "6900/10000: residual=0.011227, diff_to_curr=0.696781, diff_to_start=0.696276\n",
      "7000/10000: residual=0.010911, diff_to_curr=0.704677, diff_to_start=0.703941\n",
      "7100/10000: residual=0.010913, diff_to_curr=0.711169, diff_to_start=0.710513\n",
      "7200/10000: residual=0.011257, diff_to_curr=0.717453, diff_to_start=0.716899\n",
      "7300/10000: residual=0.010955, diff_to_curr=0.723212, diff_to_start=0.722471\n",
      "7400/10000: residual=0.011060, diff_to_curr=0.730210, diff_to_start=0.729594\n",
      "7500/10000: residual=0.010922, diff_to_curr=0.738452, diff_to_start=0.737821\n",
      "7600/10000: residual=0.011118, diff_to_curr=0.745099, diff_to_start=0.744441\n",
      "7700/10000: residual=0.010904, diff_to_curr=0.751471, diff_to_start=0.750828\n",
      "7800/10000: residual=0.011109, diff_to_curr=0.758809, diff_to_start=0.758116\n",
      "7900/10000: residual=0.010874, diff_to_curr=0.766986, diff_to_start=0.766320\n",
      "8000/10000: residual=0.011135, diff_to_curr=0.771925, diff_to_start=0.771076\n",
      "8100/10000: residual=0.010998, diff_to_curr=0.779976, diff_to_start=0.779116\n",
      "8200/10000: residual=0.010961, diff_to_curr=0.786920, diff_to_start=0.786129\n",
      "8300/10000: residual=0.010904, diff_to_curr=0.795065, diff_to_start=0.794274\n",
      "8400/10000: residual=0.011027, diff_to_curr=0.801759, diff_to_start=0.801041\n",
      "8500/10000: residual=0.010873, diff_to_curr=0.807152, diff_to_start=0.806394\n",
      "8600/10000: residual=0.010921, diff_to_curr=0.813889, diff_to_start=0.812854\n",
      "8700/10000: residual=0.011042, diff_to_curr=0.822266, diff_to_start=0.821198\n",
      "8800/10000: residual=0.010860, diff_to_curr=0.827268, diff_to_start=0.826246\n",
      "8900/10000: residual=0.011137, diff_to_curr=0.835037, diff_to_start=0.833726\n",
      "9000/10000: residual=0.010977, diff_to_curr=0.841451, diff_to_start=0.840233\n",
      "9100/10000: residual=0.011178, diff_to_curr=0.848199, diff_to_start=0.847194\n",
      "9200/10000: residual=0.010921, diff_to_curr=0.853327, diff_to_start=0.851980\n",
      "9300/10000: residual=0.010939, diff_to_curr=0.861767, diff_to_start=0.860205\n",
      "9400/10000: residual=0.010862, diff_to_curr=0.869940, diff_to_start=0.868334\n",
      "9500/10000: residual=0.010872, diff_to_curr=0.875490, diff_to_start=0.874037\n",
      "9600/10000: residual=0.010975, diff_to_curr=0.881483, diff_to_start=0.879876\n",
      "9700/10000: residual=0.010861, diff_to_curr=0.890217, diff_to_start=0.888468\n",
      "9800/10000: residual=0.011018, diff_to_curr=0.894669, diff_to_start=0.892913\n",
      "9900/10000: residual=0.011075, diff_to_curr=0.901724, diff_to_start=0.899877\n",
      "10000/10000: residual=0.010937, diff_to_curr=0.908818, diff_to_start=0.907085\n"
     ]
    }
   ],
   "source": [
    "num_steps = 10000\n",
    "num_tracks = 10\n",
    "for batch in dataloader:\n",
    "    readout = torch.transpose(batch['readout_curr'], 1, 2)\n",
    "    # print(readout.shape)\n",
    "    center_initial, basis_initial = get_center_basis(batch['detector_start'])\n",
    "    center_target, basis_target = get_center_basis(batch['detector_curr'])\n",
    "\n",
    "    center = nn.Parameter(center_initial.clone())\n",
    "    basis = nn.Parameter(basis_initial.clone())\n",
    "\n",
    "\n",
    "    \n",
    "    optimizer = torch.optim.AdamW([center, basis], lr=0.001)\n",
    "\n",
    "    # pbar = tqdm(range(1, num_steps + 1))\n",
    "    for step_id in range(1, num_steps + 1):\n",
    "        indices = torch.randperm(readout.size(1))[:num_tracks]\n",
    "        recon = torch.einsum('btcr,btcrl->btcl', \n",
    "                             readout[:, indices], \n",
    "                             basis.unsqueeze(1)) + center.unsqueeze(1)\n",
    "\n",
    "        mis_recon = torch.einsum('btcr,btcrl->btcl', \n",
    "                                 readout[:, indices], \n",
    "                                 basis_initial.unsqueeze(1)) + center_initial.unsqueeze(1)\n",
    "\n",
    "        # residual of reconstruction being inline\n",
    "        # residual of basis being, well, basis\n",
    "        line_residual = line_checker(recon)\n",
    "        basis_residual = basis_checker(basis)\n",
    "        pin = torch.pow(mis_recon - recon, 2).mean()\n",
    "        loss = line_residual + basis_residual\n",
    "        \n",
    "        optimizer.zero_grad()\n",
    "        loss.backward()\n",
    "        optimizer.step()\n",
    "\n",
    "        # pbar.set_postfix(residual=residual.item())\n",
    "        if step_id % 100 == 0:\n",
    "            with torch.no_grad():\n",
    "                recon_all = torch.einsum('btcr,btcrl->btcl', \n",
    "                                         readout, \n",
    "                                         basis.unsqueeze(1)) + center.unsqueeze(1)\n",
    "                residual_all = line_checker(recon_all) \n",
    "            \n",
    "                diff_to_curr = torch.abs(center_target - center).mean() + torch.abs(basis_target - basis).mean()\n",
    "                diff_to_start = torch.abs(center_initial - center).mean() + torch.abs(basis_initial - basis).mean()\n",
    "                \n",
    "            print(f'{step_id}/{num_steps}: residual={residual_all.item():.6f}, '\n",
    "                  f'diff_to_curr={diff_to_curr:.6f}, '\n",
    "                  f'diff_to_start={diff_to_start:.6f}')\n",
    "    break"
   ]
  },
  {
   "cell_type": "code",
   "execution_count": null,
   "id": "5e9eab7f-1ae9-42cd-8179-4693c52be319",
   "metadata": {},
   "outputs": [
    {
     "name": "stdout",
     "output_type": "stream",
     "text": [
      "100/10000: loss = 0.393930 residual=0.480698, diff_to_curr=0.393930, diff_to_start=0.395415 epsilon=0.004234\n",
      "200/10000: loss = 0.042094 residual=0.326048, diff_to_curr=0.042094, diff_to_start=0.041464 epsilon=0.004234\n",
      "300/10000: loss = 0.020387 residual=0.323419, diff_to_curr=0.020387, diff_to_start=0.014705 epsilon=0.004234\n",
      "400/10000: loss = 0.005245 residual=0.377022, diff_to_curr=0.005245, diff_to_start=0.003704 epsilon=0.004234\n",
      "500/10000: loss = 0.079995 residual=0.353468, diff_to_curr=0.079995, diff_to_start=0.078743 epsilon=0.004234\n",
      "600/10000: loss = 0.003919 residual=0.403984, diff_to_curr=0.003919, diff_to_start=0.002018 epsilon=0.004234\n",
      "700/10000: loss = 0.003366 residual=0.382027, diff_to_curr=0.003366, diff_to_start=0.001787 epsilon=0.004234\n",
      "800/10000: loss = 0.004478 residual=0.362356, diff_to_curr=0.004478, diff_to_start=0.001911 epsilon=0.004234\n",
      "900/10000: loss = 0.003065 residual=0.272269, diff_to_curr=0.003065, diff_to_start=0.002443 epsilon=0.004234\n",
      "1000/10000: loss = 0.003562 residual=0.435665, diff_to_curr=0.003562, diff_to_start=0.005131 epsilon=0.004234\n",
      "1100/10000: loss = 0.001629 residual=0.206102, diff_to_curr=0.001629, diff_to_start=0.003704 epsilon=0.004234\n",
      "1200/10000: loss = 0.001491 residual=0.264905, diff_to_curr=0.001491, diff_to_start=0.004287 epsilon=0.004234\n",
      "1300/10000: loss = 0.001496 residual=0.165475, diff_to_curr=0.001496, diff_to_start=0.004902 epsilon=0.004234\n",
      "1400/10000: loss = 0.001050 residual=0.193278, diff_to_curr=0.001050, diff_to_start=0.004131 epsilon=0.004234\n",
      "1500/10000: loss = 0.000985 residual=0.301324, diff_to_curr=0.000985, diff_to_start=0.004544 epsilon=0.004234\n",
      "1600/10000: loss = 0.000600 residual=0.288234, diff_to_curr=0.000600, diff_to_start=0.004313 epsilon=0.004234\n",
      "1700/10000: loss = 0.000825 residual=0.164460, diff_to_curr=0.000825, diff_to_start=0.004826 epsilon=0.004234\n",
      "1800/10000: loss = 0.001028 residual=0.301032, diff_to_curr=0.001028, diff_to_start=0.004746 epsilon=0.004234\n",
      "1900/10000: loss = 0.000928 residual=0.221024, diff_to_curr=0.000928, diff_to_start=0.004992 epsilon=0.004234\n",
      "2000/10000: loss = 0.000854 residual=0.455171, diff_to_curr=0.000854, diff_to_start=0.005534 epsilon=0.004234\n",
      "2100/10000: loss = 0.000644 residual=0.293732, diff_to_curr=0.000644, diff_to_start=0.004632 epsilon=0.004234\n",
      "2200/10000: loss = 0.000670 residual=0.242090, diff_to_curr=0.000670, diff_to_start=0.005190 epsilon=0.004234\n",
      "2300/10000: loss = 0.001174 residual=0.296953, diff_to_curr=0.001174, diff_to_start=0.005371 epsilon=0.004234\n",
      "2400/10000: loss = 0.000604 residual=0.125044, diff_to_curr=0.000604, diff_to_start=0.004704 epsilon=0.004234\n",
      "2500/10000: loss = 0.000667 residual=0.348406, diff_to_curr=0.000667, diff_to_start=0.004053 epsilon=0.004234\n",
      "2600/10000: loss = 0.000207 residual=0.197033, diff_to_curr=0.000207, diff_to_start=0.004111 epsilon=0.004234\n",
      "2700/10000: loss = 0.000797 residual=0.205895, diff_to_curr=0.000797, diff_to_start=0.005060 epsilon=0.004234\n",
      "2800/10000: loss = 0.000145 residual=0.208870, diff_to_curr=0.000145, diff_to_start=0.004200 epsilon=0.004234\n",
      "2900/10000: loss = 0.000231 residual=0.183163, diff_to_curr=0.000231, diff_to_start=0.004146 epsilon=0.004234\n",
      "3000/10000: loss = 0.000497 residual=0.324416, diff_to_curr=0.000497, diff_to_start=0.004763 epsilon=0.004234\n",
      "3100/10000: loss = 0.000276 residual=0.223514, diff_to_curr=0.000276, diff_to_start=0.004622 epsilon=0.004234\n",
      "3200/10000: loss = 0.000146 residual=0.282094, diff_to_curr=0.000146, diff_to_start=0.004540 epsilon=0.004234\n",
      "3300/10000: loss = 0.000306 residual=0.236282, diff_to_curr=0.000306, diff_to_start=0.004096 epsilon=0.004234\n",
      "3400/10000: loss = 0.000280 residual=0.140185, diff_to_curr=0.000280, diff_to_start=0.003635 epsilon=0.004234\n",
      "3500/10000: loss = 0.000243 residual=0.310648, diff_to_curr=0.000243, diff_to_start=0.004771 epsilon=0.004234\n",
      "3600/10000: loss = 0.000142 residual=0.212511, diff_to_curr=0.000142, diff_to_start=0.004603 epsilon=0.004234\n",
      "3700/10000: loss = 0.000348 residual=0.337488, diff_to_curr=0.000348, diff_to_start=0.004038 epsilon=0.004234\n",
      "3800/10000: loss = 0.000296 residual=0.353214, diff_to_curr=0.000296, diff_to_start=0.004687 epsilon=0.004234\n",
      "3900/10000: loss = 0.000291 residual=0.216535, diff_to_curr=0.000291, diff_to_start=0.004803 epsilon=0.004234\n",
      "4000/10000: loss = 0.000170 residual=0.218278, diff_to_curr=0.000170, diff_to_start=0.003878 epsilon=0.004234\n",
      "4100/10000: loss = 0.000490 residual=0.294974, diff_to_curr=0.000490, diff_to_start=0.004812 epsilon=0.004234\n",
      "4200/10000: loss = 0.000304 residual=0.340627, diff_to_curr=0.000304, diff_to_start=0.004732 epsilon=0.004234\n",
      "4300/10000: loss = 0.000268 residual=0.299650, diff_to_curr=0.000268, diff_to_start=0.004157 epsilon=0.004234\n",
      "4400/10000: loss = 0.000356 residual=0.231586, diff_to_curr=0.000356, diff_to_start=0.004642 epsilon=0.004234\n",
      "4500/10000: loss = 0.000198 residual=0.173588, diff_to_curr=0.000198, diff_to_start=0.004501 epsilon=0.004234\n",
      "4600/10000: loss = 0.000154 residual=0.252695, diff_to_curr=0.000154, diff_to_start=0.004696 epsilon=0.004234\n",
      "4700/10000: loss = 0.000265 residual=0.248183, diff_to_curr=0.000265, diff_to_start=0.004098 epsilon=0.004234\n",
      "4800/10000: loss = 0.000109 residual=0.204055, diff_to_curr=0.000109, diff_to_start=0.004268 epsilon=0.004234\n",
      "4900/10000: loss = 0.000182 residual=0.288117, diff_to_curr=0.000182, diff_to_start=0.004612 epsilon=0.004234\n",
      "5000/10000: loss = 0.000332 residual=0.296690, diff_to_curr=0.000332, diff_to_start=0.004829 epsilon=0.004234\n",
      "5100/10000: loss = 0.000156 residual=0.293526, diff_to_curr=0.000156, diff_to_start=0.004312 epsilon=0.004234\n",
      "5200/10000: loss = 0.000126 residual=0.201823, diff_to_curr=0.000126, diff_to_start=0.004190 epsilon=0.004234\n",
      "5300/10000: loss = 0.000095 residual=0.266232, diff_to_curr=0.000095, diff_to_start=0.004453 epsilon=0.004234\n",
      "5400/10000: loss = 0.000105 residual=0.206176, diff_to_curr=0.000105, diff_to_start=0.004359 epsilon=0.004234\n",
      "5500/10000: loss = 0.000122 residual=0.228050, diff_to_curr=0.000122, diff_to_start=0.004209 epsilon=0.004234\n",
      "5600/10000: loss = 0.000173 residual=0.253420, diff_to_curr=0.000173, diff_to_start=0.004419 epsilon=0.004234\n",
      "5700/10000: loss = 0.000187 residual=0.249456, diff_to_curr=0.000187, diff_to_start=0.004683 epsilon=0.004234\n",
      "5800/10000: loss = 0.000274 residual=0.249381, diff_to_curr=0.000274, diff_to_start=0.004009 epsilon=0.004234\n",
      "5900/10000: loss = 0.000126 residual=0.248714, diff_to_curr=0.000126, diff_to_start=0.004512 epsilon=0.004234\n",
      "6000/10000: loss = 0.000142 residual=0.210279, diff_to_curr=0.000142, diff_to_start=0.004274 epsilon=0.004234\n",
      "6100/10000: loss = 0.000086 residual=0.204080, diff_to_curr=0.000086, diff_to_start=0.004147 epsilon=0.004234\n",
      "6200/10000: loss = 0.000229 residual=0.258717, diff_to_curr=0.000229, diff_to_start=0.003922 epsilon=0.004234\n",
      "6300/10000: loss = 0.000123 residual=0.202462, diff_to_curr=0.000123, diff_to_start=0.004004 epsilon=0.004234\n",
      "6400/10000: loss = 0.000180 residual=0.270039, diff_to_curr=0.000180, diff_to_start=0.004403 epsilon=0.004234\n",
      "6500/10000: loss = 0.000266 residual=0.205143, diff_to_curr=0.000266, diff_to_start=0.004898 epsilon=0.004234\n",
      "6600/10000: loss = 0.000142 residual=0.175314, diff_to_curr=0.000142, diff_to_start=0.003961 epsilon=0.004234\n"
     ]
    }
   ],
   "source": [
    "num_steps = 10000\n",
    "num_tracks = 10\n",
    "\n",
    "class Model(nn.Module):\n",
    "    def __init__(self, ):\n",
    "        super().__init__()\n",
    "        self.ln1 = nn.Linear(6, 256)\n",
    "        self.ln2 = nn.Linear(256, 512)\n",
    "        self.regr1 = nn.Linear(512, 256)\n",
    "        self.regr2 = nn.Linear(256, 27)\n",
    "\n",
    "    def forward(self, data):\n",
    "        batch_size = data.size(0)\n",
    "        data = torch.sin(self.ln1(data.flatten(-2, -1)))\n",
    "        data = torch.sin(self.ln2(data))\n",
    "        data = data.mean(dim=1)\n",
    "        data = torch.sin(self.regr1(data))\n",
    "        data = self.regr2(data)\n",
    "        return data.reshape(batch_size, 3, 9)\n",
    "\n",
    "\n",
    "for batch in dataloader:\n",
    "    readout = torch.transpose(batch['readout_curr'], 1, 2)\n",
    "    # print(readout.shape)\n",
    "    center_initial, basis_initial = get_center_basis(batch['detector_start'])\n",
    "    center_target, basis_target = get_center_basis(batch['detector_curr'])\n",
    "\n",
    "    model = Model()\n",
    "    optimizer = torch.optim.AdamW(model.parameters(), lr=0.001)\n",
    "\n",
    "    # pbar = tqdm(range(1, num_steps + 1))\n",
    "    for step_id in range(1, num_steps + 1):\n",
    "        indices = torch.randperm(readout.size(1))[:num_tracks]\n",
    "        pred = model(readout[:, indices])\n",
    "        loss = torch.pow(pred - batch['detector_curr'], 2).mean()\n",
    "        \n",
    "        optimizer.zero_grad()\n",
    "        loss.backward()\n",
    "        optimizer.step()\n",
    "\n",
    "        # pbar.set_postfix(residual=residual.item())\n",
    "        if step_id % 100 == 0:\n",
    "            # print(f'{step_id}/{num_steps}: {loss.item():.6f}')\n",
    "            with torch.no_grad():\n",
    "                center, basis = get_center_basis(pred)\n",
    "                recon_all = torch.einsum('btcr,btcrl->btcl', \n",
    "                                         readout, \n",
    "                                         basis.unsqueeze(1)) + center.unsqueeze(1)\n",
    "                residual_all = line_checker(recon_all) \n",
    "            \n",
    "                diff_to_curr = torch.pow(pred - batch['detector_curr'], 2).mean()\n",
    "                diff_to_start = torch.pow(pred - batch['detector_start'], 2).mean()\n",
    "                epsilon = torch.pow(batch['detector_curr'] - batch['detector_start'], 2).mean()\n",
    "            \n",
    "            print(f'{step_id}/{num_steps}: '\n",
    "                  f'loss = {loss.item():.6f} '\n",
    "                  f'residual={residual_all.item():.6f}, '\n",
    "                  f'diff_to_curr={diff_to_curr:.6f}, '\n",
    "                  f'diff_to_start={diff_to_start:.6f} '\n",
    "                  f'epsilon={epsilon:.6f}')\n",
    "    break"
   ]
  },
  {
   "cell_type": "code",
   "execution_count": 50,
   "id": "2d7c3dca-49ad-4e6d-ba2f-87f357855e62",
   "metadata": {},
   "outputs": [
    {
     "data": {
      "text/plain": [
       "torch.Size([4, 3, 50, 2])"
      ]
     },
     "execution_count": 50,
     "metadata": {},
     "output_type": "execute_result"
    }
   ],
   "source": [
    "batch['readout_curr'].shape"
   ]
  },
  {
   "cell_type": "code",
   "execution_count": 52,
   "id": "06bc1cc3-f05a-4f68-b1af-c6d960c5f127",
   "metadata": {},
   "outputs": [
    {
     "data": {
      "text/plain": [
       "torch.Size([4, 3, 9])"
      ]
     },
     "execution_count": 52,
     "metadata": {},
     "output_type": "execute_result"
    }
   ],
   "source": [
    "batch['detector_curr'].shape"
   ]
  },
  {
   "cell_type": "code",
   "execution_count": null,
   "id": "0044ff37-8c6b-4ddf-b6a0-145ec40cd882",
   "metadata": {},
   "outputs": [],
   "source": []
  }
 ],
 "metadata": {
  "kernelspec": {
   "display_name": "rtdc",
   "language": "python",
   "name": "rtdc"
  },
  "language_info": {
   "codemirror_mode": {
    "name": "ipython",
    "version": 3
   },
   "file_extension": ".py",
   "mimetype": "text/x-python",
   "name": "python",
   "nbconvert_exporter": "python",
   "pygments_lexer": "ipython3",
   "version": "3.13.2"
  }
 },
 "nbformat": 4,
 "nbformat_minor": 5
}
