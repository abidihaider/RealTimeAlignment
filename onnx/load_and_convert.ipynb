{
 "cells": [
  {
   "cell_type": "markdown",
   "id": "30feb9b8-002b-4886-8810-6f9e6b44bc06",
   "metadata": {},
   "source": [
    "# Load an MLP model and convert it to ONNX file\n",
    "Please take the following steps before running this notebook\n",
    "1. clone the repo by running `git clone https://github.com/abidihaider/RealTimeAlignment.git`\n",
    "2. check to the develop branch of the repo\n",
    "3. run `python setup.py develop`"
   ]
  },
  {
   "cell_type": "code",
   "execution_count": 1,
   "id": "c741f2bf-2fbf-4dcd-9158-5058c4430285",
   "metadata": {},
   "outputs": [],
   "source": [
    "import sys\n",
    "import yaml\n",
    "import torch\n",
    "from mlp import MLP"
   ]
  },
  {
   "cell_type": "code",
   "execution_count": 2,
   "id": "a345d4f2-5c07-4b78-b596-dc14db188ba0",
   "metadata": {},
   "outputs": [
    {
     "data": {
      "text/plain": [
       "MLP(\n",
       "  (embed): Sequential(\n",
       "    (0): Linear(in_features=6, out_features=256, bias=True)\n",
       "    (1): SineActivation()\n",
       "    (2): Linear(in_features=256, out_features=256, bias=True)\n",
       "    (3): SineActivation()\n",
       "  )\n",
       "  (solvers): ModuleList(\n",
       "    (0-2): 3 x SubsetSolver(\n",
       "      (model): Sequential(\n",
       "        (0): LayerNorm((768,), eps=1e-05, elementwise_affine=True)\n",
       "        (1): Linear(in_features=768, out_features=256, bias=True)\n",
       "        (2): SineActivation()\n",
       "        (3): ResLinear(\n",
       "          (norm): LayerNorm((256,), eps=1e-05, elementwise_affine=True)\n",
       "          (linear): Linear(in_features=256, out_features=256, bias=True)\n",
       "          (activ): SineActivation()\n",
       "        )\n",
       "      )\n",
       "    )\n",
       "  )\n",
       "  (output): Linear(in_features=256, out_features=27, bias=True)\n",
       ")"
      ]
     },
     "execution_count": 2,
     "metadata": {},
     "output_type": "execute_result"
    }
   ],
   "source": [
    "with open('config.yaml', 'r', encoding='UTF-8') as handle:\n",
    "    config = yaml.safe_load(handle)\n",
    "\n",
    "model = MLP(**config['model'])\n",
    "\n",
    "model.eval()"
   ]
  },
  {
   "cell_type": "code",
   "execution_count": 3,
   "id": "1e637fbf-153b-416d-aaf8-c902ff2ef655",
   "metadata": {},
   "outputs": [
    {
     "name": "stdout",
     "output_type": "stream",
     "text": [
      "Model has been exported to ONNX format.\n"
     ]
    }
   ],
   "source": [
    "# Create dummy input with the correct shape\n",
    "in_features = config['model']['in_features']\n",
    "num_particles = config['data']['num_particles']\n",
    "dummy_input = torch.randn(1, num_particles, in_features)\n",
    "\n",
    "# Export to ONNX\n",
    "torch.onnx.export(\n",
    "    model,                      # model being run\n",
    "    dummy_input,                # model input (or a tuple for multiple inputs)\n",
    "    \"mlp.onnx\",                 # where to save the model (filename)\n",
    "    export_params=True,         # store the trained weights inside the model\n",
    "    opset_version=11,           # the ONNX version to export to (11 is widely supported)\n",
    "    do_constant_folding=True,   # optimize constants\n",
    "    input_names=['input'],      # input name (can be arbitrary)\n",
    "    output_names=['output'],    # output name\n",
    "    dynamic_axes={              # support dynamic batch size\n",
    "        'input': {0: 'batch_size'},\n",
    "        'output': {0: 'batch_size'},\n",
    "    }\n",
    ")\n",
    "\n",
    "print(\"Model has been exported to ONNX format.\")"
   ]
  },
  {
   "cell_type": "code",
   "execution_count": null,
   "id": "8a1edd93-be2b-4845-b895-4313b2b4327b",
   "metadata": {},
   "outputs": [],
   "source": []
  }
 ],
 "metadata": {
  "kernelspec": {
   "display_name": "rtdc",
   "language": "python",
   "name": "rtdc"
  },
  "language_info": {
   "codemirror_mode": {
    "name": "ipython",
    "version": 3
   },
   "file_extension": ".py",
   "mimetype": "text/x-python",
   "name": "python",
   "nbconvert_exporter": "python",
   "pygments_lexer": "ipython3",
   "version": "3.13.2"
  }
 },
 "nbformat": 4,
 "nbformat_minor": 5
}
