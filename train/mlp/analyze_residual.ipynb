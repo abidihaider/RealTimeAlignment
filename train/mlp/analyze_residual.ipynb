{
 "cells": [
  {
   "cell_type": "markdown",
   "id": "d84182ca-ceab-4aa2-91df-d0db9b402204",
   "metadata": {},
   "source": [
    "# Reconstructed Hits\n",
    "Each `npz` file contains the following fields:\n",
    "- `detector_curr`: **shape = (3, 9)**\n",
    "\n",
    "  parameters of the current (misaligned) detector. We use 3 detectors for the linear dataset.\n",
    "  The 9 numbers for each detector are center location (3), local x-direction (3), and local y-direction (3).\n",
    "- `detector_start`: **shape = (3, 9)**\n",
    "\n",
    "  parameters of the starting (ideal, not misaligned) detector. \n",
    "  The 9 numbers for each detector are center location (3), local x-direction (3), and local y-direction (3).\n",
    "  We actually don't really need it now, since they are all the same for this toy dataset.\n",
    "  The centers of the 3 detectors are (0, 10, 0), (0, 20, 0), and (0, 30, 0).\n",
    "  The local x-direction are all (-1, 0, 0), and the local y-direction are all (0, 0, 1).\n",
    "- `particle_vertex`: **shape = (50, 3)**\n",
    "\n",
    "  the vertices of the trajectories.\n",
    "- `particle_direction`: **shape = (50, 3)**\n",
    "\n",
    "  the directon of the trajectories (NOT normalized).\n",
    "- `recon_cc`: **shape = (50, 3, 3)**\n",
    "\n",
    "  reconstructed hit locations in 3D space using parameters\n",
    "  of the **misaligned** detectors on **misaligned** readout.\n",
    "  `recon_cc[i, j]` is a 3D vector of the coordinates of particle `i` intersecting misaligned detector `j`.\n",
    "  **NOTE:** Since the misaligned readout are produced exactly by the misaligned detectors,\n",
    "  the reconstructed hits are perfect on the ground-truth trajectories with zero residual.\n",
    "  Hence, it is the **ground-truth reconstructed hits**.\n",
    "- `recon_pc`: **shape = (50, 3, 3)**\n",
    "\n",
    "  reconstructed hit locations in 3D space using parameters\n",
    "  of the **predicted** detectors on **misaligned** readout.\n",
    "  `recon_pc[i, j]` is a 3D vector of the coordinates of particle `i` intersecting predicted detector `j`.\n",
    "  **NOTE:** Since the predicted detectors is not perfect,\n",
    "  the reconstructed hits will **NOT** have zero residual to the ground-truth trajectories.\n",
    "  Let us call it **predicted reconsructed hits**.\n",
    "- `closest_points`: **shape = (50, 3, 3)**\n",
    "\n",
    "  The closest points on the ground-truth trajectories to the reconstructed hits by the **predicted** detector (`recon_pc`).\n",
    "  **NOTE:** The residual I reported earlier is calculated as the mean squared error from the predicted reconstructed hits to the closest points.\n",
    "  That means, the residual is **NOT** calculated as the MSE from the predicted reconstructed hits to the ground-truth reconstructed hits."
   ]
  },
  {
   "cell_type": "code",
   "execution_count": 1,
   "id": "0383e408-400c-4daa-aacb-996ef6275074",
   "metadata": {},
   "outputs": [],
   "source": [
    "import numpy as np"
   ]
  },
  {
   "cell_type": "markdown",
   "id": "89db1016-aee5-4282-83aa-6031a1db3edc",
   "metadata": {},
   "source": [
    "## Let us load one data"
   ]
  },
  {
   "cell_type": "code",
   "execution_count": 16,
   "id": "56f877e5-4c8a-4aed-9015-14fc18b62d60",
   "metadata": {},
   "outputs": [],
   "source": [
    "fname = 'example_job/recon/sample_22.npz'\n",
    "data = np.load(fname)"
   ]
  },
  {
   "cell_type": "code",
   "execution_count": 17,
   "id": "4a9c752f-fe14-4902-81ea-fcde96380d72",
   "metadata": {},
   "outputs": [
    {
     "name": "stdout",
     "output_type": "stream",
     "text": [
      "detector_curr (3, 9)\n",
      "detector_start (3, 9)\n",
      "particle_vertex (50, 3)\n",
      "particle_direction (50, 3)\n",
      "recon_cc (50, 3, 3)\n",
      "recon_pc (50, 3, 3)\n",
      "closest_points (50, 3, 3)\n"
     ]
    }
   ],
   "source": [
    "for key in data.keys():\n",
    "    val = data[key]\n",
    "    print(key, val.shape)"
   ]
  },
  {
   "cell_type": "markdown",
   "id": "97a5e53c-18c5-4cdb-9136-85bae3b8cfc6",
   "metadata": {},
   "source": [
    "## calculate residual"
   ]
  },
  {
   "cell_type": "code",
   "execution_count": 19,
   "id": "3e50e923-11c6-4858-9af3-ce654a3156f0",
   "metadata": {},
   "outputs": [
    {
     "name": "stdout",
     "output_type": "stream",
     "text": [
      "0.00063665176\n"
     ]
    }
   ],
   "source": [
    "residual = np.power(data['recon_pc'] - data['closest_points'], 2).mean()\n",
    "print(residual)"
   ]
  },
  {
   "cell_type": "markdown",
   "id": "2a3b8a86-560c-4424-9767-ac2b2fc8e7c6",
   "metadata": {},
   "source": [
    "## per-hit per-coordinate difference"
   ]
  },
  {
   "cell_type": "code",
   "execution_count": 24,
   "id": "d3bd4de8-9375-4396-8cd8-a0bfea64e7d9",
   "metadata": {},
   "outputs": [
    {
     "name": "stdout",
     "output_type": "stream",
     "text": [
      "-0.00085502863\n"
     ]
    }
   ],
   "source": [
    "# between predicted reconstructed hits and closest points\n",
    "particle_id = 3\n",
    "detector_id = 0\n",
    "diff = data['recon_pc'][particle_id, detector_id] - data['closest_points'][particle_id, detector_id]\n",
    "# different in x direction\n",
    "print(diff[0])"
   ]
  },
  {
   "cell_type": "code",
   "execution_count": 25,
   "id": "550b0fa6-2b26-4056-850c-e4c27ba13fed",
   "metadata": {},
   "outputs": [
    {
     "name": "stdout",
     "output_type": "stream",
     "text": [
      "-0.011969686\n"
     ]
    }
   ],
   "source": [
    "# between predicted reconstructed hits and ground-truth reconstructed hits\n",
    "particle_id = 25\n",
    "detector_id = 0\n",
    "diff = data['recon_pc'][particle_id, detector_id] - data['recon_cc'][particle_id, detector_id]\n",
    "# different in x direction\n",
    "print(diff[0])"
   ]
  },
  {
   "cell_type": "code",
   "execution_count": null,
   "id": "0018b03b-f52e-4f03-81ae-7e466fd8bd49",
   "metadata": {},
   "outputs": [],
   "source": []
  }
 ],
 "metadata": {
  "kernelspec": {
   "display_name": "rtdc",
   "language": "python",
   "name": "rtdc"
  },
  "language_info": {
   "codemirror_mode": {
    "name": "ipython",
    "version": 3
   },
   "file_extension": ".py",
   "mimetype": "text/x-python",
   "name": "python",
   "nbconvert_exporter": "python",
   "pygments_lexer": "ipython3",
   "version": "3.13.2"
  }
 },
 "nbformat": 4,
 "nbformat_minor": 5
}
