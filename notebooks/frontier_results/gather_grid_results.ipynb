{
 "cells": [
  {
   "cell_type": "code",
   "execution_count": 1,
   "id": "9aa391ef-ab13-4781-ad28-5e16fceebae4",
   "metadata": {},
   "outputs": [],
   "source": [
    "from tqdm.notebook import tqdm\n",
    "from pathlib import Path\n",
    "import pandas as pd"
   ]
  },
  {
   "cell_type": "code",
   "execution_count": 2,
   "id": "c2e74201-e3cc-4f3c-9702-a3b462c0f4bd",
   "metadata": {
    "scrolled": true
   },
   "outputs": [],
   "source": [
    "proj_folder = Path('/lustre/orion/lrn057/scratch/yhuang2/rtal/RealTimeAlignment/frontier/')\n",
    "plot_folder = proj_folder/'plots'\n",
    "job_roots = proj_folder/'job_roots'\n",
    "training_folders = list(job_roots.glob('mlp*'))"
   ]
  },
  {
   "cell_type": "code",
   "execution_count": 3,
   "id": "54b9229c-8d29-44ed-bb8a-2b25a44487a7",
   "metadata": {},
   "outputs": [],
   "source": [
    "def string_to_dict(string):\n",
    "    tokens = string.split('|')[1:]\n",
    "    params = {}\n",
    "    for token in tokens:\n",
    "        key, val = token.split('-')\n",
    "        if val in ['True', 'False']:\n",
    "            params[key] = True if val == 'True' else False\n",
    "        else:\n",
    "            params[key] = int(val)\n",
    "    return params\n",
    "\n",
    "def dict_to_string(dict):\n",
    "    return 'mlp|' + '|'.join(f'{key}-{val}' for key, val in dict.items())"
   ]
  },
  {
   "cell_type": "code",
   "execution_count": 4,
   "id": "23f78452-f692-4c62-a4e3-ae072493691e",
   "metadata": {},
   "outputs": [],
   "source": [
    "df = pd.DataFrame(data=[string_to_dict(str(folder)) for folder in training_folders])\n",
    "sort_by_cols = ['rounded', 'num_features', 'num_subset_solvers', 'subset_size', 'subset_solver_depth']\n",
    "df = df.sort_values(by=sort_by_cols).reset_index(drop=True)"
   ]
  },
  {
   "cell_type": "code",
   "execution_count": 5,
   "id": "3f8f8344-395b-41a6-a5e9-8e60068948ef",
   "metadata": {},
   "outputs": [
    {
     "data": {
      "application/vnd.jupyter.widget-view+json": {
       "model_id": "0b51ceb89abb46cc96a526f7c04ba329",
       "version_major": 2,
       "version_minor": 0
      },
      "text/plain": [
       "  0%|          | 0/600 [00:00<?, ?it/s]"
      ]
     },
     "metadata": {},
     "output_type": "display_data"
    }
   ],
   "source": [
    "columns = ['diff_pc', 'diff_ps', 'res_pc', 'res_cc', 'res_sc', 'epsilon']\n",
    "split = 'train'\n",
    "last_num_epochs = 10\n",
    "\n",
    "rows = []\n",
    "for _, row in tqdm(df.iterrows(), total=len(df)):\n",
    "    folder = dict_to_string(dict(row))\n",
    "\n",
    "    perf_series = [row]\n",
    "    \n",
    "    for split in ['train', 'valid']:\n",
    "        csv_fname = job_roots/folder/f'checkpoints/{split}_log.csv'\n",
    "        csv = pd.read_csv(csv_fname)[columns]\n",
    "        series = csv[-last_num_epochs:].mean()\n",
    "        series.rename(index={key: f'{split}_{key}' for key in series.index}, inplace=True)\n",
    "        perf_series.append(series)\n",
    "    \n",
    "    rows.append(pd.concat(perf_series))\n",
    "\n",
    "df = pd.concat(rows, axis=1).T\n",
    "df.to_csv(job_roots/'performance.csv', index=False)"
   ]
  },
  {
   "cell_type": "code",
   "execution_count": null,
   "id": "bc71c8c8-d7bd-4046-a1b4-1f534a990c31",
   "metadata": {},
   "outputs": [],
   "source": []
  }
 ],
 "metadata": {
  "kernelspec": {
   "display_name": "Python 3 (ipykernel)",
   "language": "python",
   "name": "python3"
  },
  "language_info": {
   "codemirror_mode": {
    "name": "ipython",
    "version": 3
   },
   "file_extension": ".py",
   "mimetype": "text/x-python",
   "name": "python",
   "nbconvert_exporter": "python",
   "pygments_lexer": "ipython3",
   "version": "3.8.19"
  }
 },
 "nbformat": 4,
 "nbformat_minor": 5
}
