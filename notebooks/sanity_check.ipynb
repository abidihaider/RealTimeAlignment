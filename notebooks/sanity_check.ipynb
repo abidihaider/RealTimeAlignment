{
 "cells": [
  {
   "cell_type": "code",
   "execution_count": 7,
   "id": "bd755e72-3cdb-4217-88b8-2237bbe2e4ef",
   "metadata": {},
   "outputs": [],
   "source": [
    "# import yaml\n",
    "# import random\n",
    "# import argparse\n",
    "# from collections import namedtuple\n",
    "# from tqdm.notebook import tqdm\n",
    "# from pprint import pprint\n",
    "# from my_utils.utils import print_dict\n",
    "from pathlib import Path\n",
    "# import shutil\n",
    "import numpy as np\n",
    "# import pandas as pd"
   ]
  },
  {
   "cell_type": "code",
   "execution_count": 8,
   "id": "e890198e-e5f1-47cf-aad3-e6929626c696",
   "metadata": {},
   "outputs": [],
   "source": [
    "from rtal.data.detector import Detector"
   ]
  },
  {
   "cell_type": "code",
   "execution_count": 11,
   "id": "c3c05036-3874-4ea9-a8d7-b3527ddb3ede",
   "metadata": {},
   "outputs": [
    {
     "name": "stdout",
     "output_type": "stream",
     "text": [
      "[PosixPath('demo_dataset/sample_0.npz'), PosixPath('demo_dataset/sample_1.npz'), PosixPath('demo_dataset/sample_2.npz'), PosixPath('demo_dataset/sample_3.npz')]\n"
     ]
    }
   ],
   "source": [
    "dataset_folder = Path('demo_dataset')\n",
    "fnames = sorted(list(dataset_folder.glob('*npz')))"
   ]
  },
  {
   "cell_type": "markdown",
   "id": "fadadb71-4d8b-4aa4-aa5f-e52ac5047b43",
   "metadata": {},
   "source": [
    "### Sanity check 1\n",
    "data dimension"
   ]
  },
  {
   "cell_type": "code",
   "execution_count": 12,
   "id": "12066969-9457-4a54-8c1e-3dcf3d002b12",
   "metadata": {},
   "outputs": [
    {
     "name": "stdout",
     "output_type": "stream",
     "text": [
      "detector start:\n",
      "[[ 0. 10.  0. -1.  0.  0.  0.  0.  1.]\n",
      " [ 0. 20.  0. -1.  0.  0.  0.  0.  1.]\n",
      " [ 0. 30.  0. -1.  0.  0.  0.  0.  1.]]\n",
      "\n",
      "detector misaligned:\n",
      "[[0.11245309 10.07322673 -0.10665619 -0.99997772 0.00000000 -0.00667465\n",
      "  -0.00667465 0.00000000 0.99997772]\n",
      " [0.00000000 20.00000000 0.00000000 -0.99520105 0.09780621 0.00297037\n",
      "  -0.00297037 -0.06053829 0.99816146]\n",
      " [0.00000000 30.00000000 0.00000000 -0.99997650 0.00000000 -0.00685613\n",
      "  -0.00685613 0.00000000 0.99997650]]\n",
      "\n",
      "readout shape: (3, 105, 2)\n",
      "\n",
      "readout start: \n",
      "[[[ -5.  -5.]\n",
      "  [  7.  -9.]\n",
      "  [ 10.  -5.]\n",
      "  [ 13.  -5.]\n",
      "  [-10.  -3.]]\n",
      "\n",
      " [[ -9. -11.]\n",
      "  [ 16. -20.]\n",
      "  [ 22.  -9.]\n",
      "  [ 27.  -9.]\n",
      "  [-18.  -6.]]\n",
      "\n",
      " [[-14. -17.]\n",
      "  [ 25. -31.]\n",
      "  [ 33. -14.]\n",
      "  [ 40. -13.]\n",
      "  [-27.  -8.]]]\n",
      "\n",
      "readout misaligned: \n",
      "[[[ -4.  -4.]\n",
      "  [  8.  -8.]\n",
      "  [ 12.  -4.]\n",
      "  [ 14.  -3.]\n",
      "  [ -9.  -2.]]\n",
      "\n",
      " [[ -9. -11.]\n",
      "  [ 17. -20.]\n",
      "  [ 22. -10.]\n",
      "  [ 27.  -9.]\n",
      "  [-18.  -6.]]\n",
      "\n",
      " [[-13. -17.]\n",
      "  [ 25. -30.]\n",
      "  [ 34. -14.]\n",
      "  [ 40. -13.]\n",
      "  [-27.  -9.]]]\n",
      "\n",
      "particle vertex:\n",
      "[[ 0.0227 -0.0651  0.0435]\n",
      " [ 0.184  -0.0664  0.2247]\n",
      " [ 0.129  -0.0766  0.0051]\n",
      " [ 0.064  -0.0005 -0.0073]\n",
      " [ 0.1057  0.0636 -0.0742]]\n",
      "\n",
      "particle direction:\n",
      "[[ 0.0522  1.18   -0.0678]\n",
      " [-0.1045  1.1586 -0.1263]\n",
      " [-0.1182  1.0222 -0.048 ]\n",
      " [-0.136   0.9978 -0.0442]\n",
      " [ 0.1007  1.1616 -0.0297]]\n",
      "\n"
     ]
    }
   ],
   "source": [
    "fname = fnames[0]\n",
    "with np.load(fname) as handle:\n",
    "    detector_start     = handle['detector_start']\n",
    "    detector_curr      = handle['detector_curr']\n",
    "    readout_start      = handle['readout_start'] \n",
    "    readout_curr       = handle['readout_curr'] \n",
    "    particle_vertex    = handle['particle_vertex']\n",
    "    particle_direction = handle['particle_direction']\n",
    "\n",
    "print(f'detector start:\\n{detector_start}\\n')\n",
    "print(f'detector misaligned:\\n{np.array2string(detector_curr, sign=\"+\", formatter={\"float_kind\":lambda x: f\"{x:.8f}\"})}\\n')\n",
    "print(f'readout shape: {readout_start.shape}\\n')\n",
    "print(f'readout start: \\n{np.array2string(readout_start[:, :5], precision=4)}\\n')\n",
    "print(f'readout misaligned: \\n{np.array2string(readout_curr[:, :5], precision=4)}\\n')\n",
    "print(f'particle vertex:\\n{np.array2string(particle_vertex[:5], precision=4)}\\n')\n",
    "print(f'particle direction:\\n{np.array2string(particle_direction[:5], precision=4)}\\n')"
   ]
  },
  {
   "cell_type": "markdown",
   "id": "efd8e9dd-da8f-474a-88f2-ca90004796ed",
   "metadata": {},
   "source": [
    "### Sanity Check 2\n",
    "Get the global intersection points from detector readouts (either normal or misaligned) and compare the ray directions recovered from the readout to the ground-truth ray directions. \n",
    "\n",
    "passed!"
   ]
  },
  {
   "cell_type": "code",
   "execution_count": 14,
   "id": "91d112d9-41cd-476b-8b5a-59d3f3ccb0cc",
   "metadata": {},
   "outputs": [],
   "source": [
    "detectors = []\n",
    "for param_start, param_curr in zip(detector_start, detector_curr):\n",
    "    parameter_dict = {'start': param_start, 'curr': param_curr}\n",
    "    detectors.append(Detector.from_dict(parameter_dict))"
   ]
  },
  {
   "cell_type": "code",
   "execution_count": 23,
   "id": "2b5f7166-db7e-4d85-8ae4-d773245428fa",
   "metadata": {},
   "outputs": [
    {
     "name": "stdout",
     "output_type": "stream",
     "text": [
      "maximum difference in recovered (from start position) and ground-truth directions: 0.62116°\n",
      "maximum difference in recovered (from curr position) and ground-truth directions: 0.63067°\n"
     ]
    }
   ],
   "source": [
    "particle_direction /= np.linalg.norm(particle_direction, axis=1)[:, np.newaxis]\n",
    "\n",
    "for state in ['start', 'curr']:\n",
    "\n",
    "    readout = readout_start if state == 'start' else readout_curr\n",
    "    global_points = np.stack([detector.to_global(readout, state) \n",
    "                              for detector, readout in zip(detectors, readout)])\n",
    "\n",
    "    recovered_direction = global_points[2] - global_points[1]\n",
    "    recovered_direction /= np.linalg.norm(recovered_direction, axis=1)[:, np.newaxis]\n",
    "\n",
    "    angles_in_degree = np.arccos(np.array([np.dot(d1, d2) \n",
    "                                           for d1, d2 in zip(particle_direction, recovered_direction)])) * 180 / np.pi\n",
    "\n",
    "    max_difference_angle_in_degree = angles_in_degree.max()\n",
    "    \n",
    "    print(f'maximum difference in recovered (from {state} position) '\n",
    "          f'and ground-truth directions: {max_difference_angle_in_degree:.5f}\\u00B0')"
   ]
  },
  {
   "cell_type": "code",
   "execution_count": null,
   "id": "f551db44-3c64-46c3-994e-59bb94b5b3f3",
   "metadata": {},
   "outputs": [],
   "source": []
  }
 ],
 "metadata": {
  "kernelspec": {
   "display_name": "rtdc",
   "language": "python",
   "name": "rtdc"
  },
  "language_info": {
   "codemirror_mode": {
    "name": "ipython",
    "version": 3
   },
   "file_extension": ".py",
   "mimetype": "text/x-python",
   "name": "python",
   "nbconvert_exporter": "python",
   "pygments_lexer": "ipython3",
   "version": "3.13.2"
  }
 },
 "nbformat": 4,
 "nbformat_minor": 5
}
